{
 "cells": [
  {
   "cell_type": "markdown",
   "metadata": {},
   "source": [
    "## AT - Engenharia de Prompts para Ciência de Dados [24E4_4]\n",
    "\n",
    "**Rafael Soares de Oliveira**\n",
    "\n",
    "Infnet - Ciência de Dados | Dezembro 2024\n",
    "\n",
    "https://lms.infnet.edu.br/moodle/mod/assign/view.php?id=413838\n",
    "\n",
    "> 💡 **Repositório GitHub:** ...\n"
   ]
  },
  {
   "cell_type": "markdown",
   "metadata": {},
   "source": [
    "---\n",
    "\n",
    "### Exercício 1: Arquitetura da Solução\n",
    "\n",
    "Desenvolva um prompt que utilize few-shot learning para classificar comentários como “Positivos”, “Neutros” ou “Negativos”. Inclua três exemplos de cada categoria no prompt e solicite ao LLM que classifique a frase \"Este episódio é divertido, mas não tão bom quanto os antigos.\". Interprete o resultado.\n",
    "\n",
    "Desenhe a arquitetura da solução com o programa da sua escolha. A arquitetura deve indicar os pontos de processamento de informação, LLMs utilizados, bases de dados (parquets, jsons e faiss), arquivos de configuração (yaml), abas do dashboard e suas funcionalidades.\n",
    "\n",
    "- Exporte a arquitetura para o arquivo pdf importado no sistema.\n",
    "- Descreva a arquitetura, explicando seus pontos importantes.\n",
    "- Descreva o funcionamento de LLMs e como isso pode ser utilizado para atividades de sumarização."
   ]
  },
  {
   "cell_type": "markdown",
   "metadata": {},
   "source": [
    "---\n",
    "\n",
    "### Exercício 2:  Criação de Textos com LLMs\n",
    "\n",
    "Utilize a sua conta no “poe.com” para gerar um texto curto (2 parágrafos) que explique a Câmara dos Deputados. Execute o mesmo prompt com 3 LLMs diferentes (claude, gemini e chatgpt) e:\n",
    "\n",
    "- Explique as vantagens e desvantagens dos três LLMs escolhidos.\n",
    "- Argumente sobre a diferença entre a resposta dos 3 LLMs\n",
    "- Justifique a escolha da resposta final\n",
    "\n",
    "- Atualize o prompt do LLM final para gerar um arquivo data/config.yaml com a resposta final (chave: overview_summary)."
   ]
  },
  {
   "cell_type": "markdown",
   "metadata": {},
   "source": [
    "**Claude**"
   ]
  },
  {
   "cell_type": "markdown",
   "metadata": {},
   "source": [
    "![Claude](./images/exec2-a.png)"
   ]
  },
  {
   "cell_type": "markdown",
   "metadata": {},
   "source": [
    "**Gemini**"
   ]
  },
  {
   "cell_type": "markdown",
   "metadata": {},
   "source": [
    "![Gemini](./images/exec2-b.png)"
   ]
  },
  {
   "cell_type": "markdown",
   "metadata": {},
   "source": [
    "**Chat GPT**"
   ]
  },
  {
   "cell_type": "markdown",
   "metadata": {},
   "source": [
    "![ChatGPT](./images/exec2-c.png)"
   ]
  },
  {
   "cell_type": "markdown",
   "metadata": {},
   "source": [
    "> 📝 O ChatGPT, desenvolvido pela OpenAI, é atualmente a principal escolha para tarefas cotidianas, como ajuda na redação de textos, correções e esclarecimento de dúvidas básicas. Ele possui um entendimento amplo sobre uma vasta gama de tópicos, gerando textos coerentes e com naturalidade impressionante. Baseado na arquitetura GPT-4, o ChatGPT é uma ferramenta poderosa. No entanto, apesar de todos esses avanços, ainda pode produzir respostas incorretas ou enviesadas dependendo do prompt utilizado. Além disso, seu custo é mais elevado em comparação com concorrentes.\n",
    ">\n",
    "> O Gemini, desenvolvido pela Google, destaca-se por produzir respostas concisas e seguras, contando com diversos filtros para bloquear conteúdos inadequados. Projetado para minimizar vieses em suas respostas, o Gemini também se diferencia por sua arquitetura multimodal, permitindo combinar texto, imagens e outros formatos de dados de maneira integrada. Uma desvantagem relevante é a forma como os dados fornecidos pelos usuários podem ser utilizados, já que a Google declara que essas informações podem ser usadas para melhorar seus produtos e serviços, o que, em alguns casos, levanta preocupações sobre invasão de privacidade.\n",
    ">\n",
    "> O Claude, criado pela Anthropic, é outro chatbot projetado com foco em segurança e princípios éticos incorporados. Ele se adapta bem a contextos mais específicos e, até o momento, oferece modelos com custos mais acessíveis (Dependendo do modelo), entregando um bom custo-benefício. No entanto, uma limitação do Claude é a menor presença de sua comunidade no conteúdo em português, o que pode representar uma desvantagem em soluções voltadas para o mercado local.\n",
    "\n",
    "\n",
    "> 📝 A resposta do Claude foi um pouco mais breve do que o esperado, deixando a desejar em alguns aspectos. Já as respostas do Gemini e do ChatGPT foram bastante similares, tanto no formato quanto no conteúdo, que foi satisfatório em ambos os casos.\n",
    "\n",
    "> 📝 Optei por seguir com a resposta do ChatGPT por considerá-la mais concisa."
   ]
  },
  {
   "cell_type": "markdown",
   "metadata": {},
   "source": [
    "![Geração de Yaml](./images/exec2-d.png)"
   ]
  },
  {
   "cell_type": "markdown",
   "metadata": {},
   "source": [
    "---\n",
    "\n",
    "### Exercício 3:  Processamento dos dados de deputados\n",
    "\n",
    "Implemente em dataprep.py uma função que faça a coleta das informações dos deputados atuais da câmara dos deputados:\n",
    "\n",
    "- Colete e salve os dados dos deputados atuais da câmara no arquivo data/deputados.parquet através da url: url_base+/deputados\n",
    "- Executar prompt para criar o código que gere um gráfico de pizza com o total e o percentual de deputados de cada partido, salvo em 'docs/distribuicao_deputados.png\n",
    "- Executar prompt utilizando os resultados da análise anterior (distribuição de deputados por partido) para gerar insights sobre a distribuição de partidos e como isso influencia a câmara. Utilize os elementos de prompts dados, persona e exemplos para instruir o LLM. Explique o objetivo de cada elemento, avalie a resposta e salve-a em data/insights_distribuicao_deputados.json."
   ]
  },
  {
   "cell_type": "markdown",
   "metadata": {},
   "source": [
    "> 📝 A resposta se encontra em `dataprep.py`"
   ]
  },
  {
   "cell_type": "markdown",
   "metadata": {},
   "source": [
    "---\n",
    "\n",
    "### Exercício 4: Processamento dos dados de despesas\n",
    "\n",
    "Implemente em dataprep.py uma função que colete as informações das despesas dos deputados atuais da câmara dos deputados no período de referência da solução (use a url: url_base+/deputados/{id}/despesas).\n",
    "\n",
    "- Agrupe os dados de despesas por dia, deputado e tipo de despesa e salve num arquivo parquet (data/serie_despesas_diárias_deputados.parquet).\n",
    "- Utilizando a técnica de prompt-chaining, crie um prompt que instrua o LLM a gerar um código python que analise os dados das despesas dos deputados. Peça para o LLM até 3 análises. Indique ao LLM quais dados estão disponíveis e o respectivo arquivo (salvo em a)) e execute as análises.\n",
    "- Utilize os resultados das 3 análises para criar um prompt usando a técnica de Generated Knowledge para instruir o LLM a gerar insights. Salve o resultado como um JSON (data/insights_despesas_deputados.json)."
   ]
  },
  {
   "cell_type": "markdown",
   "metadata": {},
   "source": [
    "> 📝 A resposta se encontra em `dataprep.py`"
   ]
  },
  {
   "cell_type": "markdown",
   "metadata": {},
   "source": [
    "---\n",
    "\n",
    "### Exercício 5: Processamento dos dados de proposições\n",
    "\n",
    "Implemente em dataprep.py uma função que faça a coleta das informações das proposições que tramitam no período de referência (dataInicio e dataFim) e são do tema 'Economia', 'Educação' e 'Ciência, Tecnologia e Inovação' (códigos [40, 46, 62]).\n",
    "\n",
    "- Coletar um total de 10 proposiçoes por tema e salvar em data/proposicoes_deputados.parquet\n",
    "- Utilize a sumarização por chunks para resumir as proposições tramitadas no período de referência. Avalie a resposta e salve-a em data/sumarizacao_proposicoes.json"
   ]
  },
  {
   "cell_type": "markdown",
   "metadata": {},
   "source": [
    "> 📝 A resposta se encontra em `dataprep.py`"
   ]
  },
  {
   "cell_type": "markdown",
   "metadata": {},
   "source": [
    "---\n",
    "\n",
    "### Exercício 6: Dashboards com Chain-of-thoughts\n",
    "\n",
    "Utilize 3 etapas de Chain-of-Thought prompting para escrever o código inicial do dashboard, destacando as abas Overview, Despesas e Proposições. Explique o objetivo de cada prompt na evolução do código até o arquivo dashboard.py final:\n",
    "\n",
    "- A aba Overview deve possuir um título e descrição da solução de sua escolha.\n",
    "- O painel deve mostrar o texto sumarizado em config.yaml\n",
    "- O painel deve mostrar o gráfico de barras em docs/distribuicao_deputados.png\n",
    "- O painel deve mostrar os insights do LLM sobre a distribuição de deputados em data/insights_distribuicao_deputados.json"
   ]
  },
  {
   "cell_type": "markdown",
   "metadata": {},
   "source": [
    "> 📝 Os códigos se encontram em `dataprep.py` e `dashboard.py`.\n",
    "> \n",
    "> No primeiro prompt, a ideia foi criar o arquivo inicial com um esqueleto geral de como tudo deveria ser organizado, já incluindo o título e o sumário gerado anteriormente.\n",
    "> \n",
    "> No segundo prompt, eu estava interessado apenas no código para exibir a imagem do gráfico, então informei ao LLM sobre a existência do dashboard anterior, para que o foco fosse exclusivamente na inclusão dessa imagem.\n",
    "> \n",
    "> O último prompt seguiu uma lógica semelhante à do anterior, mas com foco em exibir os insights salvos."
   ]
  },
  {
   "cell_type": "markdown",
   "metadata": {},
   "source": [
    "---\n",
    "\n",
    "### Exercício 7: Dashboards com Batch-prompting\n",
    "\n",
    "Utilize a técnica de Batch-prompting para escrever o código streamlit que preencha as abas Despesas e Proposições do código em dashboard.py. O prompt deve descrever com detalhes cada aba para geração de:\n",
    "\n",
    "- Aba Despesas deve mostrar os insights sobre as despesas dos deputados (data/insights_despesas_deputados.json)\n",
    "- Aba Despesas deve conter um st.selectbox para seleção do deputado.\n",
    "- Aba Despesas deve mostrar gráfico de barras com a série temporal de despesas do deputado selecionado (data/serie_despesas_diárias_deputados.parquet).\n",
    "- O painel deve mostrar uma tabela com os dados das proposições (data/proposicoes_deputados.parquet)\n",
    "- O painel deve mostrar o resumo das proposições em (data/sumarizacao_proposicoes.json)\n",
    "- Compare o resultado dos códigos gerados pelas técnicas de Chain-of-Thoughts e Batch-prompting."
   ]
  },
  {
   "cell_type": "markdown",
   "metadata": {},
   "source": [
    "> 📝 Os códigos se encontram em `dataprep.py` e `dashboard.py`.\n",
    "> \n",
    ">\n",
    "> Acredito que essa técnica seja superior ao COT (pelo menos neste caso), pois considero que a LLM tenha mais contexto para gerar um código mais eficiente e que se conecte melhor. No COT, é necessário ficar relembrando a LLM sobre o que já foi feito e dar dicas do que não refazer, evitando processamento desnecessário.  \\\n",
    "> No batch, fica mais fácil fazer ajustes finos no prompt final sem se preocupar que isso afete os prompts seguintes.\n",
    "> Por outro lado, acredito que o batch prompting requeira mais processamento e possa exaurir a memória da LLM se feito de forma exagerada.  \\\n",
    "> Em termos de funcionalidade, as duas técnicas geraram um código final que funcionou."
   ]
  },
  {
   "cell_type": "markdown",
   "metadata": {},
   "source": []
  }
 ],
 "metadata": {
  "kernelspec": {
   "display_name": ".venv",
   "language": "python",
   "name": "python3"
  },
  "language_info": {
   "codemirror_mode": {
    "name": "ipython",
    "version": 3
   },
   "file_extension": ".py",
   "mimetype": "text/x-python",
   "name": "python",
   "nbconvert_exporter": "python",
   "pygments_lexer": "ipython3",
   "version": "3.12.7"
  }
 },
 "nbformat": 4,
 "nbformat_minor": 4
}
